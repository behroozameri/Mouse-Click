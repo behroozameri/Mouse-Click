{
 "cells": [
  {
   "cell_type": "code",
   "execution_count": 19,
   "id": "992931d6",
   "metadata": {},
   "outputs": [],
   "source": [
    "import win32api, win32con, win32gui\n",
    "import time\n",
    "import mouse"
   ]
  },
  {
   "cell_type": "code",
   "execution_count": 20,
   "id": "e7bab974",
   "metadata": {},
   "outputs": [],
   "source": [
    "def move(x,y):\n",
    "    win32api.SetCursorPos((x,y))"
   ]
  },
  {
   "cell_type": "code",
   "execution_count": 21,
   "id": "c7e9b49d",
   "metadata": {},
   "outputs": [],
   "source": [
    "def click():\n",
    "    mouse.click('right')"
   ]
  },
  {
   "cell_type": "code",
   "execution_count": null,
   "id": "00ede8c8",
   "metadata": {},
   "outputs": [
    {
     "name": "stdout",
     "output_type": "stream",
     "text": [
      "805 286\n",
      "640 308\n"
     ]
    }
   ],
   "source": [
    "flag = 0\n",
    "while True:\n",
    "    print(x,y)\n",
    "    flags, hcursor, (x,y) = win32gui.GetCursorInfo()\n",
    "    if flag == 0:\n",
    "        move(x + 10,y)\n",
    "        time.sleep(1)\n",
    "        click()\n",
    "        flag = 1\n",
    "    else:\n",
    "        move(x - 10,y)\n",
    "        time.sleep(1)\n",
    "        click()\n",
    "        flag = 0\n",
    "    time.sleep(60)"
   ]
  },
  {
   "cell_type": "code",
   "execution_count": null,
   "id": "db00e069",
   "metadata": {},
   "outputs": [],
   "source": []
  }
 ],
 "metadata": {
  "kernelspec": {
   "display_name": "Python 3 (ipykernel)",
   "language": "python",
   "name": "python3"
  },
  "language_info": {
   "codemirror_mode": {
    "name": "ipython",
    "version": 3
   },
   "file_extension": ".py",
   "mimetype": "text/x-python",
   "name": "python",
   "nbconvert_exporter": "python",
   "pygments_lexer": "ipython3",
   "version": "3.11.3"
  }
 },
 "nbformat": 4,
 "nbformat_minor": 5
}
